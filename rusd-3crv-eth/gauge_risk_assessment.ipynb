{
 "cells": [
  {
   "cell_type": "markdown",
   "metadata": {},
   "source": [
    "---\n",
    "Useful links\n",
    "---\n",
    "\n",
    "1. [RAMP-Defi Homepage](rampdefi.com)\n",
    "2. [RAMP-DEFI Docs](https://docs.rampdefi.com/ramp-defi/)\n",
    "3. [RAMP-DEFI Github](https://docs.rampdefi.com/ramp-defi/)\n",
    "4. [Most recent Public audits](https://github.com/RAMP-DEFI/RAMP-Public-Audits)\n",
    "5. [RAMP Smart Contracts](https://github.com/RAMP-DEFI/RAMP-Contracts): the first commit was 14 hours before the start of this review process.\n",
    "6. [rUSD-BUSD PancakeSwap v2 pool (Binance Smart Chain) pair explorer](https://www.dextools.io/app/bsc/pair-explorer/0x59fac9e98479fc9979ae2a0c7422af50bcbb9b26)\n",
    "7. [rUSD-USDC Quickswap pool (Polygon) pair explorer](https://www.dextools.io/app/polygon/pair-explorer/0x5ef8747d1dc4839e92283794a10d448357973ac0)\n",
    "8. [RAMP-DEFI's plans on participating in the Curve Wars](https://medium.com/rampdefi/ethereum-growth-roadmap-curve-wars-and-protocol-owned-liquidity-8210859b007f)"
   ]
  },
  {
   "cell_type": "markdown",
   "metadata": {},
   "source": [
    "---\n",
    "PRELIMINARY FINDINGS! SUBJECT TO CHANGE AS MORE INFORMATION COMES IN!\n",
    "---"
   ]
  },
  {
   "cell_type": "markdown",
   "metadata": {},
   "source": [
    "---\n",
    "rUSD as an asset\n",
    "---\n",
    "\n",
    "1. RAMP that issues rUSD is a multichain lending platform where one can deposit yield bearing collateral and mint rUSD **on Binance Smart Chain and Polygon**. Currently, no rUSD is minted off collateral deposited on smart contracts on Ethereum. More chains are expected in the future.\n",
    "2. The goal of rUSD is to be a cross-chain transit currency, which is why the RAMP-DEFI team wishes to acquire gauges on curve pools: curve pools offer rUSD a sturdy peg against more established dollar-stablecoins (3crv, am3crv, etc.).\n",
    "3. The amount a user may mint is capped by the maximum collateral ratio: rUSD is said to be over-collateralised (cannot check this since contracts are not public) with a minimum collateralisation of 135% and a liquidation at 130%.\n",
    "4. The assets used as collateral:\n",
    "    - Binance Smart Chain: single assets such as RAMP, CAKE, wBNB, ETH, BTCB, or LP tokens (on Pancakeswap) for RAMP/BUSD, INJ/BNB, CAKE/BNB, CAKE/BUSD, CAKE/USDT, BNB/BUSD, BNB/USDT, ETH/BNB, LINK/BNB, BTCB/BNB, LINK/BNB, DOT/BNB, DOGE/BNB, and more ...\n",
    "    - Polygon: single assets such as RAMP, wMATIC, or LP tokens (on Quickswap) for RAMP/ETH and MATIC/ETH, and more ...\n",
    "5. In the context of oracles, RAMP-DEFI has a [RAMP/USD oracle provided by Chainlink](https://data.chain.link/ethereum/mainnet/crypto-usd/ramp-usd), with several good sources of information. For single asset collateral, RAMP aims to use Chainlink Price Feeds. It is not clear what oracles are used currently for other assets.\n",
    "6. the rUSD peg has currently been maintained by frequent buybacks **insert buyback transaction here** from protocol revenues.\n",
    "7. The RAMP DAO  has a voting Quorum is set at 5% and it seems that the votes are more symbolic than binding\n",
    "\n",
    "---\n",
    "Reviewer's concerns\n",
    "---\n",
    "1. The contracts used for minting rUSD are upgradeable:\n",
    "    - [rUSD mint transaction on Binance Smart Chain](https://bscscan.com/tx/0xc3f878eaa8c28a2581c323942f79c073f0d2ee003669a2501c2bb6733e371d27).\n",
    "    - [rUSD mint transaction on Polygon](https://polygonscan.com/tx/0xc0a97ccfd98b86b6f854dec9473151e1a3aac923c5117725bc9ad3d4beddee2e).\n",
    "2. There is no transparency (on-chain) on collateral ratios. The only source of platform analytics is [RAMP-DEFI's Analytics Page](https://appv2.rampdefi.com/#/analytics).\n",
    "3. The [price oracle is settable](https://github.com/RAMP-DEFI/RAMP-Contracts/blob/8c56d636ed8180904a3cca3fd85164a8cfcdd067/contracts/interfaces/ramp/IPriceOracle.sol#L15), and the [oracle is upgradeable by a controller contract](https://github.com/RAMP-DEFI/RAMP-Contracts/blob/main/contracts/controllers/Controller.sol#L87):\n",
    "\n",
    "![](images/settable_oracle.jpg)\n",
    "![](images/settable_oracle_1.jpg)\n",
    "\n",
    "    - [There are no Chainlink Oracles for RAMP on Polygon](https://docs.chain.link/docs/matic-addresses/), so it is not clear where the oracle for a CDP on [RAMP as a collateral come from](https://appv2.rampdefi.com/#/#polygon).\n",
    "    - It is not clear who can set the oracle as well - this information is not available in the docs.\n",
    "4. Not enough documentation - the documentation does not detail liquidations, offer verified on-chain contracts, offer information on multisigs involved, or offer explanations on who is responsible for the oracles.\n",
    "5. The RAMP DAO is a symbolic DAO and seems to have no real say over what happens this means that the core DEV team can just make changes and change ratio or oracles. It seems there are now plans to add more decentralization in the technical roadmap https://docs.rampdefi.com/ramp-defi/ramp-v2-roadmap "
   ]
  },
  {
   "cell_type": "markdown",
   "metadata": {},
   "source": [
    "\n",
    "---\n",
    "RAMP Token Infinite Mint possibility\n",
    "---\n",
    "\n",
    "The RAMP token minted on BSC: <https://bscscan.com/address/0x8519ea49c997f50ceffa444d240fb655e89248aa> The following function is used to call the mint the token:\n",
    "\n",
    "![](images/ramp_infinite_mint_possibility.jpg)"
   ]
  },
  {
   "cell_type": "markdown",
   "metadata": {},
   "source": [
    "Only a permissioned address can mint, and if you look closer, the permissioned address can only mint if the following conditions are satisfied:\n",
    "\n",
    "![](images/permissions_for_minting.png)"
   ]
  },
  {
   "cell_type": "markdown",
   "metadata": {},
   "source": [
    "The one who calls the contract needs to satisfy **hasMintPermission**, and **canMint**. If those conditions are satisfied, then RAMP token (which can be used as collateral on RAMP-DEFI) can be minted to whatever amount the the address with **hasMintPermission** sets. The modifier **canMint** checks for the variable mintingFinished, which is only called after the function **finishMinting** is called. This function needs to be called separately in order to CAP the total supply of RAMP tokens on BSC:\n",
    "\n",
    "![](images/ramp_token_finished_minting.png)\n",
    "\n",
    "Upon checking for the most recent value of this, one observes that this method was never called:"
   ]
  },
  {
   "cell_type": "code",
   "execution_count": 3,
   "metadata": {
    "collapsed": false,
    "jupyter": {
     "outputs_hidden": false
    },
    "pycharm": {
     "name": "#%%\n"
    }
   },
   "outputs": [
    {
     "data": {
      "text/plain": [
       "False"
      ]
     },
     "execution_count": 3,
     "metadata": {},
     "output_type": "execute_result"
    }
   ],
   "source": [
    "import sys, json\n",
    "sys.path.append(\"../\")\n",
    "\n",
    "from web3 import Web3, HTTPProvider\n",
    "web3 = Web3(HTTPProvider(f\"https://bsc-dataseed.binance.org/\"))\n",
    "with open(\"./abi/ramp.json\", 'r') as f:\n",
    "    abi = json.load(f)\n",
    "ramp_token = web3.eth.contract(address=\"0x8519EA49c997f50cefFa444d240fB655e89248Aa\", abi=abi)\n",
    "ramp_token.functions.mintingFinished().call()"
   ]
  },
  {
   "cell_type": "markdown",
   "metadata": {},
   "source": [
    "On BSCScan:\n",
    "\n",
    "![](images/minting_finished_bscscan.png)\n",
    "\n",
    "So, there exists the possibility of infinitely minting the RAMP token (which can also be used as collateral to mint rUSD)."
   ]
  },
  {
   "cell_type": "markdown",
   "metadata": {
    "pycharm": {
     "name": "#%% md\n"
    }
   },
   "source": [
    "---\n",
    "Does the asset meet minimum requirements for a gauge?\n",
    "---\n",
    "1. _Is it possible for a single entity to rug its users?_\n",
    "    - The contracts securing rUSD are [upgradeable](https://bscscan.com/address/0x87a69e54d5f8659a178c7a814594489e1c4fccc6). It is very possible for a malicious actor to upgrade the contract.\n",
    "    - The oracles are upgradeable.\n",
    "    - There seems to be no realistic fixed cap on the RAMP token, which can be used to mint rUSD. **Hence, there exists a possibility of minting rUSD infinitely.**\n",
    "2. _If the team vanishes, can the project continue?_\n",
    "    - Currently, the rUSD peg is maintained by frequent buybacks. Absence of these buybacks may devalue the asset.\n",
    "    - Currently the project is in the process of launching on several chains, considering that they are building a cross-chain transit asset. There's a lot of work to be done, and the project will have a tough time surviving if there is nobody behind it.\n",
    "    - The team is doxxed: [Linkedin Profile](https://www.linkedin.com/company/rampdefi/?originalSubdomain=sg).\n",
    "    - It seems there is no clear path towards decentralization or community control\n",
    "3. Do audits reveal any concerning signs?\n",
    "    - There have been audits conducted on RAMP contracts by BEOSIN and Hacken. The audits seem to raise no concerns.\n",
    "    - RAMP-DEFI has not announced a bug bounty program in the history of the platform.\n",
    "\n",
    "---\n",
    "Reviewer's recommendation:\n",
    "---\n",
    "1. RAMP-DEFI contracts are unverified and most important of all Upgradeable: this is a strict no-no because it is centralized finance with no transparency at all. The contracts they published on Github (yesterday only, by the way) may not be what is implemented on-chain. There are too many places where an exploit can happen, which makes rUSD a very vulnerable asset.\n",
    "2. Coingecko is not an oracle. Using Coingecko as an oracle involves some sort of a centralized service that constantly updates the prices in their homegrown oracle contracts. This has several points of failures and ruggability, and well: Coingecko is not an oracle of 'truth' on the price of an asset. This makes the collateralization unreliable.\n",
    "3. The audits currently on their contracts are not of the highest quality: the auditors could be more credible (e.g. have less than 2 appearances on [REKT leaderboard](https://rekt.news/leaderboard/)).\n",
    "4. The documentation around their code and platform leaves much to be desired. For an example of good documentation, refer to Reflexer Labs (We reviewed them for [rai-3crv](https://github.com/bout3fiddy/gauge-risk-assessments/tree/main/rai-3crv) and I was just amazed at how based the devs were and how good the documentation was).\n",
    "5. Because contracts are unverified, I cannot verify on-chain whether their system is solvent.\n",
    "6. The RAMP collateral used on Binance Smart Chain can be infinite minted. The token exists as a bridge token between other chains and BSC. This is highly centralized. RAMP on BSC is also used as collateral, and this makes rUSD infinite minting a possibility.\n",
    "7. rUSD can only be minted on polygon and binance smart chain right now.\n",
    "8. RAMP says it has a DAO but that is so far just symbolic and it seems there is no plans on the [roadmap](https://docs.rampdefi.com/ramp-defi/ramp-v2-roadmap) to go towards more decentralization\n",
    "\n",
    "Our recommendation is as follows:\n",
    "The rUSD asset does not meet the requirements for receiving CRV emissions. vlCVX voters should vote against this proposal.\n",
    "\n",
    "As an olive branch, I think their team is busy solving these issues. Based on the latest available knowledge, my recommendation is to do the following first and then reapply for a rUSD/3crv gauge:\n",
    "\n",
    "1. Change oracles to Chainlink for collateral used to mint rUSD.\n",
    "2. Verify contracts for full transparency: security by obscurity is unacceptable.\n",
    "3. Get audits from reputable firms such as OpenZepplin, Trail of Bits, maybe even ChainSecurity if that's even a possibility. Set up an immunifi bug bounty.\n",
    "4. Decentralise/use other bridges for the RAMP token.\n",
    "5. Make a clear roadmap towards decentralization"
   ]
  }
 ],
 "metadata": {
  "kernelspec": {
   "display_name": "Python 3 (ipykernel)",
   "language": "python",
   "name": "python3"
  },
  "language_info": {
   "codemirror_mode": {
    "name": "ipython",
    "version": 3
   },
   "file_extension": ".py",
   "mimetype": "text/x-python",
   "name": "python",
   "nbconvert_exporter": "python",
   "pygments_lexer": "ipython3",
   "version": "3.9.7"
  }
 },
 "nbformat": 4,
 "nbformat_minor": 4
}